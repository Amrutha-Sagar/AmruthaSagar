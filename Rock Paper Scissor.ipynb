{
 "cells": [
  {
   "cell_type": "code",
   "execution_count": null,
   "metadata": {},
   "outputs": [],
   "source": [
    "Rock=0\n",
    "Paper=1\n",
    "Scissor=2\n",
    "Player1Score=0\n",
    "Player2Score=0\n",
    "i=1\n",
    "number = int(input(\"enter the number of games to be played \"))\n",
    "Player1= input(\"enter the player 1 name \")\n",
    "Player2= input(\"enter the player 2 name \")\n",
    "\n",
    "while(i<= number):\n",
    "    value1= int(input(\"enter the values which player1 draws \" ))\n",
    "    value2= int(input(\"enter the values which player2 draws \" ))\n",
    "    if(value1==value2):\n",
    "        print(\"its a tie  \")\n",
    "        Player1Score+=1\n",
    "        Player2Score+=1\n",
    "    elif (value1==Rock and value2==Scissor):\n",
    "        print(Player1, \"won the game \")\n",
    "        Player1Score+=1\n",
    "    elif (value1>value2):\n",
    "        print(Player1, \"won the game \")\n",
    "        Player1Score+=1\n",
    "    else:\n",
    "        print(Player2, \"won the game \")\n",
    "        Player2Score+=1      \n",
    "    i+=1  \n",
    "if(Player1Score==Player2Score):\n",
    "    print(\"both the players won the match with score  \", Player1Score, \"each\")\n",
    "elif (Player1Score>Player2Score):\n",
    "    print(Player1,\"won the match with \", Player1Score, \"as game point\")\n",
    "else:\n",
    "    print(Player2, \"wone the match with\", Player2Score, \"as game point\")"
   ]
  }
 ],
 "metadata": {
  "kernelspec": {
   "display_name": "Python 3",
   "language": "python",
   "name": "python3"
  },
  "language_info": {
   "codemirror_mode": {
    "name": "ipython",
    "version": 3
   },
   "file_extension": ".py",
   "mimetype": "text/x-python",
   "name": "python",
   "nbconvert_exporter": "python",
   "pygments_lexer": "ipython3",
   "version": "3.7.4"
  }
 },
 "nbformat": 4,
 "nbformat_minor": 2
}
